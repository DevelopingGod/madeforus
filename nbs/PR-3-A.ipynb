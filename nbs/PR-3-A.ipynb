{
 "cells": [
  {
   "cell_type": "markdown",
   "id": "aac61fcc",
   "metadata": {},
   "source": [
    "## Name: Sankalp Indish\n",
    "## Class: TE-B\n",
    "## Batch: B4\n",
    "## Subject: DSBDAL\n",
    "## Roll No: TEB75\n",
    "## Title: Provide summary statistics (mean, median, minimum, maximum, standard deviation) for a dataset (age, income etc.) with numeric variables grouped by one of the qualitative (categorical) variable. For example, if your categorical variable is age groups and quantitative variable is income, then provide summary statistics of income grouped by the age groups. Create a list that contains a numeric value for each response to the categorical variable."
   ]
  },
  {
   "cell_type": "code",
   "execution_count": 1,
   "id": "219820cc",
   "metadata": {},
   "outputs": [],
   "source": [
    "# Importing the required libraries\n",
    "import pandas as pd\n",
    "import matplotlib.pyplot as plt\n",
    "import seaborn as sns"
   ]
  },
  {
   "cell_type": "code",
   "execution_count": 12,
   "id": "2e3ea1fe",
   "metadata": {},
   "outputs": [],
   "source": [
    "# Creating an empty dataframe\n",
    "df = pd.DataFrame()"
   ]
  },
  {
   "cell_type": "code",
   "execution_count": 13,
   "id": "14f9f95a",
   "metadata": {},
   "outputs": [],
   "source": [
    "# Adding values to first column\n",
    "df['Age Group']=['Young Adult', 'Young Adult', 'Young Adult', 'Young Adult', 'Mid Age Adult', 'Mid Age Adult','Senior Adult', 'Senior Adult', 'Senior Adult', 'Senior Adult']"
   ]
  },
  {
   "cell_type": "code",
   "execution_count": 16,
   "id": "ddff76d9",
   "metadata": {},
   "outputs": [],
   "source": [
    "# Adding values to second column\n",
    "df['Income']= [30000,35000,32000,33000, 50000,55000,75000,80000,78000,82000]"
   ]
  },
  {
   "cell_type": "code",
   "execution_count": 18,
   "id": "c367fcc7",
   "metadata": {},
   "outputs": [
    {
     "data": {
      "text/html": [
       "<div>\n",
       "<style scoped>\n",
       "    .dataframe tbody tr th:only-of-type {\n",
       "        vertical-align: middle;\n",
       "    }\n",
       "\n",
       "    .dataframe tbody tr th {\n",
       "        vertical-align: top;\n",
       "    }\n",
       "\n",
       "    .dataframe thead th {\n",
       "        text-align: right;\n",
       "    }\n",
       "</style>\n",
       "<table border=\"1\" class=\"dataframe\">\n",
       "  <thead>\n",
       "    <tr style=\"text-align: right;\">\n",
       "      <th></th>\n",
       "      <th>Age Group</th>\n",
       "      <th>Income</th>\n",
       "    </tr>\n",
       "  </thead>\n",
       "  <tbody>\n",
       "    <tr>\n",
       "      <th>0</th>\n",
       "      <td>Young Adult</td>\n",
       "      <td>30000</td>\n",
       "    </tr>\n",
       "    <tr>\n",
       "      <th>1</th>\n",
       "      <td>Young Adult</td>\n",
       "      <td>35000</td>\n",
       "    </tr>\n",
       "    <tr>\n",
       "      <th>2</th>\n",
       "      <td>Young Adult</td>\n",
       "      <td>32000</td>\n",
       "    </tr>\n",
       "    <tr>\n",
       "      <th>3</th>\n",
       "      <td>Young Adult</td>\n",
       "      <td>33000</td>\n",
       "    </tr>\n",
       "    <tr>\n",
       "      <th>4</th>\n",
       "      <td>Mid Age Adult</td>\n",
       "      <td>50000</td>\n",
       "    </tr>\n",
       "    <tr>\n",
       "      <th>5</th>\n",
       "      <td>Mid Age Adult</td>\n",
       "      <td>55000</td>\n",
       "    </tr>\n",
       "    <tr>\n",
       "      <th>6</th>\n",
       "      <td>Senior Adult</td>\n",
       "      <td>75000</td>\n",
       "    </tr>\n",
       "    <tr>\n",
       "      <th>7</th>\n",
       "      <td>Senior Adult</td>\n",
       "      <td>80000</td>\n",
       "    </tr>\n",
       "    <tr>\n",
       "      <th>8</th>\n",
       "      <td>Senior Adult</td>\n",
       "      <td>78000</td>\n",
       "    </tr>\n",
       "    <tr>\n",
       "      <th>9</th>\n",
       "      <td>Senior Adult</td>\n",
       "      <td>82000</td>\n",
       "    </tr>\n",
       "  </tbody>\n",
       "</table>\n",
       "</div>"
      ],
      "text/plain": [
       "       Age Group  Income\n",
       "0    Young Adult   30000\n",
       "1    Young Adult   35000\n",
       "2    Young Adult   32000\n",
       "3    Young Adult   33000\n",
       "4  Mid Age Adult   50000\n",
       "5  Mid Age Adult   55000\n",
       "6   Senior Adult   75000\n",
       "7   Senior Adult   80000\n",
       "8   Senior Adult   78000\n",
       "9   Senior Adult   82000"
      ]
     },
     "execution_count": 18,
     "metadata": {},
     "output_type": "execute_result"
    }
   ],
   "source": [
    "# Display of the data\n",
    "df"
   ]
  },
  {
   "cell_type": "code",
   "execution_count": 19,
   "id": "09a8aeb6",
   "metadata": {},
   "outputs": [
    {
     "name": "stdout",
     "output_type": "stream",
     "text": [
      "<class 'pandas.core.frame.DataFrame'>\n",
      "RangeIndex: 10 entries, 0 to 9\n",
      "Data columns (total 2 columns):\n",
      " #   Column     Non-Null Count  Dtype \n",
      "---  ------     --------------  ----- \n",
      " 0   Age Group  10 non-null     object\n",
      " 1   Income     10 non-null     int64 \n",
      "dtypes: int64(1), object(1)\n",
      "memory usage: 288.0+ bytes\n"
     ]
    }
   ],
   "source": [
    "df.info()"
   ]
  },
  {
   "cell_type": "code",
   "execution_count": 21,
   "id": "39267ac6",
   "metadata": {},
   "outputs": [
    {
     "data": {
      "text/html": [
       "<div>\n",
       "<style scoped>\n",
       "    .dataframe tbody tr th:only-of-type {\n",
       "        vertical-align: middle;\n",
       "    }\n",
       "\n",
       "    .dataframe tbody tr th {\n",
       "        vertical-align: top;\n",
       "    }\n",
       "\n",
       "    .dataframe thead th {\n",
       "        text-align: right;\n",
       "    }\n",
       "</style>\n",
       "<table border=\"1\" class=\"dataframe\">\n",
       "  <thead>\n",
       "    <tr style=\"text-align: right;\">\n",
       "      <th></th>\n",
       "      <th>Income</th>\n",
       "    </tr>\n",
       "  </thead>\n",
       "  <tbody>\n",
       "    <tr>\n",
       "      <th>count</th>\n",
       "      <td>10.000000</td>\n",
       "    </tr>\n",
       "    <tr>\n",
       "      <th>mean</th>\n",
       "      <td>55000.000000</td>\n",
       "    </tr>\n",
       "    <tr>\n",
       "      <th>std</th>\n",
       "      <td>21974.732965</td>\n",
       "    </tr>\n",
       "    <tr>\n",
       "      <th>min</th>\n",
       "      <td>30000.000000</td>\n",
       "    </tr>\n",
       "    <tr>\n",
       "      <th>25%</th>\n",
       "      <td>33500.000000</td>\n",
       "    </tr>\n",
       "    <tr>\n",
       "      <th>50%</th>\n",
       "      <td>52500.000000</td>\n",
       "    </tr>\n",
       "    <tr>\n",
       "      <th>75%</th>\n",
       "      <td>77250.000000</td>\n",
       "    </tr>\n",
       "    <tr>\n",
       "      <th>max</th>\n",
       "      <td>82000.000000</td>\n",
       "    </tr>\n",
       "  </tbody>\n",
       "</table>\n",
       "</div>"
      ],
      "text/plain": [
       "             Income\n",
       "count     10.000000\n",
       "mean   55000.000000\n",
       "std    21974.732965\n",
       "min    30000.000000\n",
       "25%    33500.000000\n",
       "50%    52500.000000\n",
       "75%    77250.000000\n",
       "max    82000.000000"
      ]
     },
     "execution_count": 21,
     "metadata": {},
     "output_type": "execute_result"
    }
   ],
   "source": [
    "# Statistical Data Analytics\n",
    "df.describe()"
   ]
  },
  {
   "cell_type": "code",
   "execution_count": 22,
   "id": "f04c2001",
   "metadata": {},
   "outputs": [
    {
     "data": {
      "text/plain": [
       "Text(0.5, 1.0, 'Age Group wise Box Plot of Income ')"
      ]
     },
     "execution_count": 22,
     "metadata": {},
     "output_type": "execute_result"
    },
    {
     "data": {
      "image/png": "[encoded data removed]",
      "text/plain": [
       "<Figure size 640x480 with 1 Axes>"
      ]
     },
     "metadata": {},
     "output_type": "display_data"
    }
   ],
   "source": [
    "# Building Plots\n",
    "sns.boxplot(x='Age Group', y='Income', data=df)\n",
    "plt.xlabel('Age Group')\n",
    "plt.ylabel('Income')\n",
    "plt.title('Age Group wise Box Plot of Income ')\n",
    "plt.title('Age Group wise Box Plot of Income ')"
   ]
  },
  {
   "cell_type": "markdown",
   "id": "ee1e4ada",
   "metadata": {},
   "source": [
    "### Inference:-\n",
    "- Higher the experience more the salary\n",
    "- No overlapping\n",
    "- No presence of outliers"
   ]
  },
  {
   "cell_type": "code",
   "execution_count": 24,
   "id": "c62344cc",
   "metadata": {},
   "outputs": [
    {
     "name": "stdout",
     "output_type": "stream",
     "text": [
      "Age Group\n",
      "Mid Age Adult    52500.0\n",
      "Senior Adult     78750.0\n",
      "Young Adult      32500.0\n",
      "Name: Income, dtype: float64\n"
     ]
    }
   ],
   "source": [
    "# Grouped statistical measures\n",
    "# 1. Printing the mean salary per age group\n",
    "print(df.groupby('Age Group')['Income'].mean())"
   ]
  },
  {
   "cell_type": "code",
   "execution_count": 25,
   "id": "2d112d11",
   "metadata": {},
   "outputs": [
    {
     "name": "stdout",
     "output_type": "stream",
     "text": [
      "Age Group\n",
      "Mid Age Adult    52500.0\n",
      "Senior Adult     79000.0\n",
      "Young Adult      32500.0\n",
      "Name: Income, dtype: float64\n"
     ]
    }
   ],
   "source": [
    "# 2. Printing the median salary per age group\n",
    "print(df.groupby('Age Group')['Income'].median())"
   ]
  },
  {
   "cell_type": "code",
   "execution_count": 26,
   "id": "8798e30c",
   "metadata": {},
   "outputs": [
    {
     "data": {
      "text/plain": [
       "0    30000\n",
       "1    32000\n",
       "2    33000\n",
       "3    35000\n",
       "4    50000\n",
       "5    55000\n",
       "6    75000\n",
       "7    78000\n",
       "8    80000\n",
       "9    82000\n",
       "Name: Income, dtype: int64"
      ]
     },
     "execution_count": 26,
     "metadata": {},
     "output_type": "execute_result"
    }
   ],
   "source": [
    "# 3. Mode of the data\n",
    "# Ideally shouldnt display as no repeated values, but it displays all values\n",
    "df['Income'].mode()"
   ]
  },
  {
   "cell_type": "code",
   "execution_count": 28,
   "id": "21ceb6af",
   "metadata": {},
   "outputs": [
    {
     "data": {
      "text/plain": [
       "0    Senior Adult\n",
       "1     Young Adult\n",
       "Name: Age Group, dtype: object"
      ]
     },
     "execution_count": 28,
     "metadata": {},
     "output_type": "execute_result"
    }
   ],
   "source": [
    "# For categorical, it will check the most repeated category\n",
    "df['Age Group'].mode()"
   ]
  },
  {
   "cell_type": "code",
   "execution_count": 30,
   "id": "790e38bf",
   "metadata": {},
   "outputs": [
    {
     "name": "stdout",
     "output_type": "stream",
     "text": [
      "Age Group\n",
      "Mid Age Adult    50000\n",
      "Senior Adult     75000\n",
      "Young Adult      30000\n",
      "Name: Income, dtype: int64\n"
     ]
    }
   ],
   "source": [
    "# Printing the minimum value per age group\n",
    "print(df.groupby('Age Group')['Income'].min())"
   ]
  },
  {
   "cell_type": "code",
   "execution_count": 31,
   "id": "43304458",
   "metadata": {},
   "outputs": [
    {
     "name": "stdout",
     "output_type": "stream",
     "text": [
      "Age Group\n",
      "Mid Age Adult    55000\n",
      "Senior Adult     82000\n",
      "Young Adult      35000\n",
      "Name: Income, dtype: int64\n"
     ]
    }
   ],
   "source": [
    "# Printing the maximum value per age group\n",
    "print(df.groupby('Age Group')['Income'].max())"
   ]
  },
  {
   "cell_type": "code",
   "execution_count": 32,
   "id": "0373378d",
   "metadata": {},
   "outputs": [
    {
     "name": "stdout",
     "output_type": "stream",
     "text": [
      "Age Group\n",
      "Mid Age Adult    3535.533906\n",
      "Senior Adult     2986.078811\n",
      "Young Adult      2081.665999\n",
      "Name: Income, dtype: float64\n"
     ]
    }
   ],
   "source": [
    "# Printing the standard deviation per group \n",
    "print(df.groupby('Age Group')['Income'].std())"
   ]
  },
  {
   "cell_type": "code",
   "execution_count": 34,
   "id": "d7057d0e",
   "metadata": {},
   "outputs": [
    {
     "name": "stdout",
     "output_type": "stream",
     "text": [
      "21974.73296513268\n"
     ]
    }
   ],
   "source": [
    "# Standard deviation of all values\n",
    "print(df['Income'].std())"
   ]
  },
  {
   "cell_type": "code",
   "execution_count": 35,
   "id": "81c1afad",
   "metadata": {},
   "outputs": [
    {
     "name": "stdout",
     "output_type": "stream",
     "text": [
      "               count     mean          std      min      25%      50%  \\\n",
      "Age Group                                                               \n",
      "Mid Age Adult    2.0  52500.0  3535.533906  50000.0  51250.0  52500.0   \n",
      "Senior Adult     4.0  78750.0  2986.078811  75000.0  77250.0  79000.0   \n",
      "Young Adult      4.0  32500.0  2081.665999  30000.0  31500.0  32500.0   \n",
      "\n",
      "                   75%      max  \n",
      "Age Group                        \n",
      "Mid Age Adult  53750.0  55000.0  \n",
      "Senior Adult   80500.0  82000.0  \n",
      "Young Adult    33500.0  35000.0  \n"
     ]
    }
   ],
   "source": [
    "# Summarized statistics by grouping columns\n",
    "print(df.groupby('Age Group')['Income'].describe())"
   ]
  },
  {
   "cell_type": "code",
   "execution_count": 36,
   "id": "339fdef9",
   "metadata": {},
   "outputs": [],
   "source": [
    "# Thus we derived all statistical measures successfully"
   ]
  }
 ],
 "metadata": {
  "kernelspec": {
   "display_name": "Python 3 (ipykernel)",
   "language": "python",
   "name": "python3"
  },
  "language_info": {
   "codemirror_mode": {
    "name": "ipython",
    "version": 3
   },
   "file_extension": ".py",
   "mimetype": "text/x-python",
   "name": "python",
   "nbconvert_exporter": "python",
   "pygments_lexer": "ipython3",
   "version": "3.10.9"
  }
 },
 "nbformat": 4,
 "nbformat_minor": 5
}
