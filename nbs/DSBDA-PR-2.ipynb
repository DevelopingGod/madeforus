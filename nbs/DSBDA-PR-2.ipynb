{
 "cells": [
  {
   "cell_type": "markdown",
   "id": "66a9eac9",
   "metadata": {},
   "source": [
    "## Name: Sankalp Indish\n",
    "## Class: TE-B\n",
    "## Batch: B4\n",
    "## Subject: DSBDAL\n",
    "## Roll no: TEB75"
   ]
  },
  {
   "cell_type": "markdown",
   "id": "555a8f2b",
   "metadata": {},
   "source": [
    "## DSBDA Practical No A-2: Create an “Academic performance” dataset of students an# perform the following operations using Python.\n",
    "- Scan all variables for missing values and inconsistencies. If there are missing values or inconsistencies, use any of the suitable techniques to deal with them. \n",
    "- Scan all numeric variables for outliers. If there are outliers, use any of techniques to deal with them.\n",
    "- Apply data transformations on at least one of the variables. The purpose of transformation should be one of the following reasons: \n",
    "    - To change the scale for understanding of the variable \n",
    "    - To convert a non-linear relation into a linear to decrease the skewness and convert the distribution into a normal distribution\n"
   ]
  },
  {
   "cell_type": "code",
   "execution_count": 16,
   "id": "4738c6c2",
   "metadata": {},
   "outputs": [],
   "source": [
    "import pandas as pd\n",
    "import numpy as np\n",
    "import matplotlib.pyplot as plt\n",
    "import seaborn as sns"
   ]
  },
  {
   "cell_type": "code",
   "execution_count": 2,
   "id": "21199c34",
   "metadata": {},
   "outputs": [],
   "source": [
    "df=pd.DataFrame() # Creating a dataframe for the operations"
   ]
  },
  {
   "cell_type": "code",
   "execution_count": 4,
   "id": "dca5a9ec",
   "metadata": {},
   "outputs": [],
   "source": [
    "# Adding values and columns to the dataset\n",
    "df['Rollo']=[1, 2, 3, 4, 5, 6, 7, 8, 9, 10]\n",
    "df['Maths']=[66, 85, 78, 60, 45, 56, 70, np.nan, 80, 110]\n",
    "df['Science']=[90, 83, 46, 78, 84, 57, 68, 43, 67, 58]\n",
    "df['English']=[79, 83, 57, 66, 49, 87, 73, 69, 52, 68]\n",
    "df['Attendance']=[90, 80, 74, 86, '93%', 88, 69, 77, 95, 96]"
   ]
  },
  {
   "cell_type": "code",
   "execution_count": 5,
   "id": "24c58fa2",
   "metadata": {},
   "outputs": [
    {
     "data": {
      "text/html": [
       "<div>\n",
       "<style scoped>\n",
       "    .dataframe tbody tr th:only-of-type {\n",
       "        vertical-align: middle;\n",
       "    }\n",
       "\n",
       "    .dataframe tbody tr th {\n",
       "        vertical-align: top;\n",
       "    }\n",
       "\n",
       "    .dataframe thead th {\n",
       "        text-align: right;\n",
       "    }\n",
       "</style>\n",
       "<table border=\"1\" class=\"dataframe\">\n",
       "  <thead>\n",
       "    <tr style=\"text-align: right;\">\n",
       "      <th></th>\n",
       "      <th>Rollo</th>\n",
       "      <th>Maths</th>\n",
       "      <th>Science</th>\n",
       "      <th>English</th>\n",
       "      <th>Attendance</th>\n",
       "    </tr>\n",
       "  </thead>\n",
       "  <tbody>\n",
       "    <tr>\n",
       "      <th>0</th>\n",
       "      <td>1</td>\n",
       "      <td>66.0</td>\n",
       "      <td>90</td>\n",
       "      <td>79</td>\n",
       "      <td>90</td>\n",
       "    </tr>\n",
       "    <tr>\n",
       "      <th>1</th>\n",
       "      <td>2</td>\n",
       "      <td>85.0</td>\n",
       "      <td>83</td>\n",
       "      <td>83</td>\n",
       "      <td>80</td>\n",
       "    </tr>\n",
       "    <tr>\n",
       "      <th>2</th>\n",
       "      <td>3</td>\n",
       "      <td>78.0</td>\n",
       "      <td>46</td>\n",
       "      <td>57</td>\n",
       "      <td>74</td>\n",
       "    </tr>\n",
       "    <tr>\n",
       "      <th>3</th>\n",
       "      <td>4</td>\n",
       "      <td>60.0</td>\n",
       "      <td>78</td>\n",
       "      <td>66</td>\n",
       "      <td>86</td>\n",
       "    </tr>\n",
       "    <tr>\n",
       "      <th>4</th>\n",
       "      <td>5</td>\n",
       "      <td>45.0</td>\n",
       "      <td>84</td>\n",
       "      <td>49</td>\n",
       "      <td>93%</td>\n",
       "    </tr>\n",
       "  </tbody>\n",
       "</table>\n",
       "</div>"
      ],
      "text/plain": [
       "   Rollo  Maths  Science  English Attendance\n",
       "0      1   66.0       90       79         90\n",
       "1      2   85.0       83       83         80\n",
       "2      3   78.0       46       57         74\n",
       "3      4   60.0       78       66         86\n",
       "4      5   45.0       84       49        93%"
      ]
     },
     "execution_count": 5,
     "metadata": {},
     "output_type": "execute_result"
    }
   ],
   "source": [
    "df.head()"
   ]
  },
  {
   "cell_type": "code",
   "execution_count": 6,
   "id": "12b01d5e",
   "metadata": {},
   "outputs": [
    {
     "name": "stdout",
     "output_type": "stream",
     "text": [
      "<class 'pandas.core.frame.DataFrame'>\n",
      "RangeIndex: 10 entries, 0 to 9\n",
      "Data columns (total 5 columns):\n",
      " #   Column      Non-Null Count  Dtype  \n",
      "---  ------      --------------  -----  \n",
      " 0   Rollo       10 non-null     int64  \n",
      " 1   Maths       9 non-null      float64\n",
      " 2   Science     10 non-null     int64  \n",
      " 3   English     10 non-null     int64  \n",
      " 4   Attendance  10 non-null     object \n",
      "dtypes: float64(1), int64(3), object(1)\n",
      "memory usage: 528.0+ bytes\n"
     ]
    }
   ],
   "source": [
    "df.info()"
   ]
  },
  {
   "cell_type": "code",
   "execution_count": 7,
   "id": "9bac873a",
   "metadata": {},
   "outputs": [
    {
     "data": {
      "text/html": [
       "<div>\n",
       "<style scoped>\n",
       "    .dataframe tbody tr th:only-of-type {\n",
       "        vertical-align: middle;\n",
       "    }\n",
       "\n",
       "    .dataframe tbody tr th {\n",
       "        vertical-align: top;\n",
       "    }\n",
       "\n",
       "    .dataframe thead th {\n",
       "        text-align: right;\n",
       "    }\n",
       "</style>\n",
       "<table border=\"1\" class=\"dataframe\">\n",
       "  <thead>\n",
       "    <tr style=\"text-align: right;\">\n",
       "      <th></th>\n",
       "      <th>Rollo</th>\n",
       "      <th>Maths</th>\n",
       "      <th>Science</th>\n",
       "      <th>English</th>\n",
       "    </tr>\n",
       "  </thead>\n",
       "  <tbody>\n",
       "    <tr>\n",
       "      <th>count</th>\n",
       "      <td>10.00000</td>\n",
       "      <td>9.000000</td>\n",
       "      <td>10.000000</td>\n",
       "      <td>10.000000</td>\n",
       "    </tr>\n",
       "    <tr>\n",
       "      <th>mean</th>\n",
       "      <td>5.50000</td>\n",
       "      <td>72.222222</td>\n",
       "      <td>67.400000</td>\n",
       "      <td>68.300000</td>\n",
       "    </tr>\n",
       "    <tr>\n",
       "      <th>std</th>\n",
       "      <td>3.02765</td>\n",
       "      <td>18.978789</td>\n",
       "      <td>16.304055</td>\n",
       "      <td>12.798003</td>\n",
       "    </tr>\n",
       "    <tr>\n",
       "      <th>min</th>\n",
       "      <td>1.00000</td>\n",
       "      <td>45.000000</td>\n",
       "      <td>43.000000</td>\n",
       "      <td>49.000000</td>\n",
       "    </tr>\n",
       "    <tr>\n",
       "      <th>25%</th>\n",
       "      <td>3.25000</td>\n",
       "      <td>60.000000</td>\n",
       "      <td>57.250000</td>\n",
       "      <td>59.250000</td>\n",
       "    </tr>\n",
       "    <tr>\n",
       "      <th>50%</th>\n",
       "      <td>5.50000</td>\n",
       "      <td>70.000000</td>\n",
       "      <td>67.500000</td>\n",
       "      <td>68.500000</td>\n",
       "    </tr>\n",
       "    <tr>\n",
       "      <th>75%</th>\n",
       "      <td>7.75000</td>\n",
       "      <td>80.000000</td>\n",
       "      <td>81.750000</td>\n",
       "      <td>77.500000</td>\n",
       "    </tr>\n",
       "    <tr>\n",
       "      <th>max</th>\n",
       "      <td>10.00000</td>\n",
       "      <td>110.000000</td>\n",
       "      <td>90.000000</td>\n",
       "      <td>87.000000</td>\n",
       "    </tr>\n",
       "  </tbody>\n",
       "</table>\n",
       "</div>"
      ],
      "text/plain": [
       "          Rollo       Maths    Science    English\n",
       "count  10.00000    9.000000  10.000000  10.000000\n",
       "mean    5.50000   72.222222  67.400000  68.300000\n",
       "std     3.02765   18.978789  16.304055  12.798003\n",
       "min     1.00000   45.000000  43.000000  49.000000\n",
       "25%     3.25000   60.000000  57.250000  59.250000\n",
       "50%     5.50000   70.000000  67.500000  68.500000\n",
       "75%     7.75000   80.000000  81.750000  77.500000\n",
       "max    10.00000  110.000000  90.000000  87.000000"
      ]
     },
     "execution_count": 7,
     "metadata": {},
     "output_type": "execute_result"
    }
   ],
   "source": [
    "df.describe()"
   ]
  },
  {
   "cell_type": "code",
   "execution_count": 9,
   "id": "24e68f9f",
   "metadata": {},
   "outputs": [
    {
     "data": {
      "text/plain": [
       "Rollo         0\n",
       "Maths         1\n",
       "Science       0\n",
       "English       0\n",
       "Attendance    0\n",
       "dtype: int64"
      ]
     },
     "execution_count": 9,
     "metadata": {},
     "output_type": "execute_result"
    }
   ],
   "source": [
    "df.isnull().sum()"
   ]
  },
  {
   "cell_type": "code",
   "execution_count": 10,
   "id": "40499c67",
   "metadata": {},
   "outputs": [],
   "source": [
    "# Replcing Missing Value by the Mean [present in maths column]\n",
    "df['Maths'].fillna(df['Maths'].mean(),inplace=True)"
   ]
  },
  {
   "cell_type": "code",
   "execution_count": 11,
   "id": "4879c22a",
   "metadata": {},
   "outputs": [
    {
     "data": {
      "text/plain": [
       "Rollo         0\n",
       "Maths         0\n",
       "Science       0\n",
       "English       0\n",
       "Attendance    0\n",
       "dtype: int64"
      ]
     },
     "execution_count": 11,
     "metadata": {},
     "output_type": "execute_result"
    }
   ],
   "source": [
    "df.isnull().sum()"
   ]
  },
  {
   "cell_type": "code",
   "execution_count": 12,
   "id": "64dde869",
   "metadata": {},
   "outputs": [],
   "source": [
    "# As we see the missing value is handled"
   ]
  },
  {
   "cell_type": "code",
   "execution_count": 14,
   "id": "469871f4",
   "metadata": {},
   "outputs": [
    {
     "name": "stdout",
     "output_type": "stream",
     "text": [
      "   Rollo       Maths  Science  English  Attendance\n",
      "0      1   66.000000       90       79        90.0\n",
      "1      2   85.000000       83       83        80.0\n",
      "2      3   78.000000       46       57        74.0\n",
      "3      4   60.000000       78       66        86.0\n",
      "4      5   45.000000       84       49        93.0\n",
      "5      6   56.000000       57       87        88.0\n",
      "6      7   70.000000       68       73        69.0\n",
      "7      8   72.222222       43       69        77.0\n",
      "8      9   80.000000       67       52        95.0\n",
      "9     10  110.000000       58       68        96.0\n"
     ]
    }
   ],
   "source": [
    "# We handle the 93% in a way that the original value is not lost\n",
    "\n",
    "# Function to clean and standardize attendance values\n",
    "def clean_attendance(value):\n",
    "    if isinstance(value, str) and \"%\" in value:  # Check if value contains '%'\n",
    "        return float(value.replace(\"%\", \"\"))  # Remove '%' and convert to float\n",
    "    elif isinstance(value, (int, float)):  # If it's already numeric\n",
    "        return value\n",
    "    else:\n",
    "        return None  # Handle missing or unexpected data\n",
    "\n",
    "# Apply the function to the Attendance column\n",
    "df[\"Attendance\"] = df[\"Attendance\"].apply(clean_attendance)\n",
    "\n",
    "print(df)"
   ]
  },
  {
   "cell_type": "code",
   "execution_count": 15,
   "id": "1f3332c7",
   "metadata": {
    "scrolled": true
   },
   "outputs": [
    {
     "data": {
      "text/html": [
       "<div>\n",
       "<style scoped>\n",
       "    .dataframe tbody tr th:only-of-type {\n",
       "        vertical-align: middle;\n",
       "    }\n",
       "\n",
       "    .dataframe tbody tr th {\n",
       "        vertical-align: top;\n",
       "    }\n",
       "\n",
       "    .dataframe thead th {\n",
       "        text-align: right;\n",
       "    }\n",
       "</style>\n",
       "<table border=\"1\" class=\"dataframe\">\n",
       "  <thead>\n",
       "    <tr style=\"text-align: right;\">\n",
       "      <th></th>\n",
       "      <th>Rollo</th>\n",
       "      <th>Maths</th>\n",
       "      <th>Science</th>\n",
       "      <th>English</th>\n",
       "      <th>Attendance</th>\n",
       "    </tr>\n",
       "  </thead>\n",
       "  <tbody>\n",
       "    <tr>\n",
       "      <th>count</th>\n",
       "      <td>10.00000</td>\n",
       "      <td>10.000000</td>\n",
       "      <td>10.000000</td>\n",
       "      <td>10.000000</td>\n",
       "      <td>10.000000</td>\n",
       "    </tr>\n",
       "    <tr>\n",
       "      <th>mean</th>\n",
       "      <td>5.50000</td>\n",
       "      <td>72.222222</td>\n",
       "      <td>67.400000</td>\n",
       "      <td>68.300000</td>\n",
       "      <td>84.800000</td>\n",
       "    </tr>\n",
       "    <tr>\n",
       "      <th>std</th>\n",
       "      <td>3.02765</td>\n",
       "      <td>17.893374</td>\n",
       "      <td>16.304055</td>\n",
       "      <td>12.798003</td>\n",
       "      <td>9.342852</td>\n",
       "    </tr>\n",
       "    <tr>\n",
       "      <th>min</th>\n",
       "      <td>1.00000</td>\n",
       "      <td>45.000000</td>\n",
       "      <td>43.000000</td>\n",
       "      <td>49.000000</td>\n",
       "      <td>69.000000</td>\n",
       "    </tr>\n",
       "    <tr>\n",
       "      <th>25%</th>\n",
       "      <td>3.25000</td>\n",
       "      <td>61.500000</td>\n",
       "      <td>57.250000</td>\n",
       "      <td>59.250000</td>\n",
       "      <td>77.750000</td>\n",
       "    </tr>\n",
       "    <tr>\n",
       "      <th>50%</th>\n",
       "      <td>5.50000</td>\n",
       "      <td>71.111111</td>\n",
       "      <td>67.500000</td>\n",
       "      <td>68.500000</td>\n",
       "      <td>87.000000</td>\n",
       "    </tr>\n",
       "    <tr>\n",
       "      <th>75%</th>\n",
       "      <td>7.75000</td>\n",
       "      <td>79.500000</td>\n",
       "      <td>81.750000</td>\n",
       "      <td>77.500000</td>\n",
       "      <td>92.250000</td>\n",
       "    </tr>\n",
       "    <tr>\n",
       "      <th>max</th>\n",
       "      <td>10.00000</td>\n",
       "      <td>110.000000</td>\n",
       "      <td>90.000000</td>\n",
       "      <td>87.000000</td>\n",
       "      <td>96.000000</td>\n",
       "    </tr>\n",
       "  </tbody>\n",
       "</table>\n",
       "</div>"
      ],
      "text/plain": [
       "          Rollo       Maths    Science    English  Attendance\n",
       "count  10.00000   10.000000  10.000000  10.000000   10.000000\n",
       "mean    5.50000   72.222222  67.400000  68.300000   84.800000\n",
       "std     3.02765   17.893374  16.304055  12.798003    9.342852\n",
       "min     1.00000   45.000000  43.000000  49.000000   69.000000\n",
       "25%     3.25000   61.500000  57.250000  59.250000   77.750000\n",
       "50%     5.50000   71.111111  67.500000  68.500000   87.000000\n",
       "75%     7.75000   79.500000  81.750000  77.500000   92.250000\n",
       "max    10.00000  110.000000  90.000000  87.000000   96.000000"
      ]
     },
     "execution_count": 15,
     "metadata": {},
     "output_type": "execute_result"
    }
   ],
   "source": [
    "df.describe()"
   ]
  },
  {
   "cell_type": "code",
   "execution_count": 18,
   "id": "c5051f7a",
   "metadata": {},
   "outputs": [
    {
     "data": {
      "text/html": [
       "<div>\n",
       "<style scoped>\n",
       "    .dataframe tbody tr th:only-of-type {\n",
       "        vertical-align: middle;\n",
       "    }\n",
       "\n",
       "    .dataframe tbody tr th {\n",
       "        vertical-align: top;\n",
       "    }\n",
       "\n",
       "    .dataframe thead th {\n",
       "        text-align: right;\n",
       "    }\n",
       "</style>\n",
       "<table border=\"1\" class=\"dataframe\">\n",
       "  <thead>\n",
       "    <tr style=\"text-align: right;\">\n",
       "      <th></th>\n",
       "      <th>Rollo</th>\n",
       "      <th>Maths</th>\n",
       "      <th>Science</th>\n",
       "      <th>English</th>\n",
       "      <th>Attendance</th>\n",
       "    </tr>\n",
       "  </thead>\n",
       "  <tbody>\n",
       "    <tr>\n",
       "      <th>0</th>\n",
       "      <td>1</td>\n",
       "      <td>66.000000</td>\n",
       "      <td>90</td>\n",
       "      <td>79</td>\n",
       "      <td>90.0</td>\n",
       "    </tr>\n",
       "    <tr>\n",
       "      <th>1</th>\n",
       "      <td>2</td>\n",
       "      <td>85.000000</td>\n",
       "      <td>83</td>\n",
       "      <td>83</td>\n",
       "      <td>80.0</td>\n",
       "    </tr>\n",
       "    <tr>\n",
       "      <th>2</th>\n",
       "      <td>3</td>\n",
       "      <td>78.000000</td>\n",
       "      <td>46</td>\n",
       "      <td>57</td>\n",
       "      <td>74.0</td>\n",
       "    </tr>\n",
       "    <tr>\n",
       "      <th>3</th>\n",
       "      <td>4</td>\n",
       "      <td>60.000000</td>\n",
       "      <td>78</td>\n",
       "      <td>66</td>\n",
       "      <td>86.0</td>\n",
       "    </tr>\n",
       "    <tr>\n",
       "      <th>4</th>\n",
       "      <td>5</td>\n",
       "      <td>45.000000</td>\n",
       "      <td>84</td>\n",
       "      <td>49</td>\n",
       "      <td>93.0</td>\n",
       "    </tr>\n",
       "    <tr>\n",
       "      <th>5</th>\n",
       "      <td>6</td>\n",
       "      <td>56.000000</td>\n",
       "      <td>57</td>\n",
       "      <td>87</td>\n",
       "      <td>88.0</td>\n",
       "    </tr>\n",
       "    <tr>\n",
       "      <th>6</th>\n",
       "      <td>7</td>\n",
       "      <td>70.000000</td>\n",
       "      <td>68</td>\n",
       "      <td>73</td>\n",
       "      <td>69.0</td>\n",
       "    </tr>\n",
       "    <tr>\n",
       "      <th>7</th>\n",
       "      <td>8</td>\n",
       "      <td>72.222222</td>\n",
       "      <td>43</td>\n",
       "      <td>69</td>\n",
       "      <td>77.0</td>\n",
       "    </tr>\n",
       "    <tr>\n",
       "      <th>8</th>\n",
       "      <td>9</td>\n",
       "      <td>80.000000</td>\n",
       "      <td>67</td>\n",
       "      <td>52</td>\n",
       "      <td>95.0</td>\n",
       "    </tr>\n",
       "    <tr>\n",
       "      <th>9</th>\n",
       "      <td>10</td>\n",
       "      <td>110.000000</td>\n",
       "      <td>58</td>\n",
       "      <td>68</td>\n",
       "      <td>96.0</td>\n",
       "    </tr>\n",
       "  </tbody>\n",
       "</table>\n",
       "</div>"
      ],
      "text/plain": [
       "   Rollo       Maths  Science  English  Attendance\n",
       "0      1   66.000000       90       79        90.0\n",
       "1      2   85.000000       83       83        80.0\n",
       "2      3   78.000000       46       57        74.0\n",
       "3      4   60.000000       78       66        86.0\n",
       "4      5   45.000000       84       49        93.0\n",
       "5      6   56.000000       57       87        88.0\n",
       "6      7   70.000000       68       73        69.0\n",
       "7      8   72.222222       43       69        77.0\n",
       "8      9   80.000000       67       52        95.0\n",
       "9     10  110.000000       58       68        96.0"
      ]
     },
     "execution_count": 18,
     "metadata": {},
     "output_type": "execute_result"
    }
   ],
   "source": [
    "df"
   ]
  },
  {
   "cell_type": "code",
   "execution_count": 26,
   "id": "d3396cb5",
   "metadata": {},
   "outputs": [
    {
     "data": {
      "text/plain": [
       "<Axes: >"
      ]
     },
     "execution_count": 26,
     "metadata": {},
     "output_type": "execute_result"
    },
    {
     "data": {
      "image/png": "[encoded data removed]",
      "text/plain": [
       "<Figure size 640x480 with 1 Axes>"
      ]
     },
     "metadata": {},
     "output_type": "display_data"
    }
   ],
   "source": [
    "sns.boxplot(data=df) # For all columns at once \n",
    "# Another method would be using for loop and new figure for each"
   ]
  },
  {
   "cell_type": "code",
   "execution_count": 30,
   "id": "4614b86c",
   "metadata": {},
   "outputs": [],
   "source": [
    "# Handle Outliers (using IQR method for MathS) Mostly used value with IQR is 1.\n",
    "Q1 = df['Maths'].quantile(0.25)\n",
    "Q3 = df['Maths'].quantile(0.75)\n",
    "IQR = Q3 - Q1\n",
    "lower_bound = Q1 - 1.1 * IQR\n",
    "upper_bound = Q3 + 1.1 * IQR"
   ]
  },
  {
   "cell_type": "code",
   "execution_count": 31,
   "id": "81f1b5b8",
   "metadata": {},
   "outputs": [
    {
     "name": "stdout",
     "output_type": "stream",
     "text": [
      "41.7\n"
     ]
    }
   ],
   "source": [
    "print(lower_bound)"
   ]
  },
  {
   "cell_type": "code",
   "execution_count": 32,
   "id": "62874863",
   "metadata": {},
   "outputs": [
    {
     "name": "stdout",
     "output_type": "stream",
     "text": [
      "99.3\n"
     ]
    }
   ],
   "source": [
    "print(upper_bound)"
   ]
  },
  {
   "cell_type": "code",
   "execution_count": 41,
   "id": "4ad74da1",
   "metadata": {},
   "outputs": [],
   "source": [
    "#Replace Outliers with upper or lower bound\n",
    "df['Maths'] = np.where(df['Maths'] > upper_bound, upper_bound, np.where(df['Maths'] < lower_bound, lower_bound, df['Maths']))"
   ]
  },
  {
   "cell_type": "code",
   "execution_count": 42,
   "id": "494a80be",
   "metadata": {},
   "outputs": [],
   "source": [
    "# Applying Data Transformation on Attendance\n",
    "from sklearn.preprocessing import MinMaxScaler\n",
    "scaler=MinMaxScaler()\n",
    "df[['Attendance']]=scaler.fit_transform(df[['Attendance']])"
   ]
  },
  {
   "cell_type": "code",
   "execution_count": 43,
   "id": "80f405c2",
   "metadata": {},
   "outputs": [
    {
     "data": {
      "text/html": [
       "<div>\n",
       "<style scoped>\n",
       "    .dataframe tbody tr th:only-of-type {\n",
       "        vertical-align: middle;\n",
       "    }\n",
       "\n",
       "    .dataframe tbody tr th {\n",
       "        vertical-align: top;\n",
       "    }\n",
       "\n",
       "    .dataframe thead th {\n",
       "        text-align: right;\n",
       "    }\n",
       "</style>\n",
       "<table border=\"1\" class=\"dataframe\">\n",
       "  <thead>\n",
       "    <tr style=\"text-align: right;\">\n",
       "      <th></th>\n",
       "      <th>Rollo</th>\n",
       "      <th>Maths</th>\n",
       "      <th>Science</th>\n",
       "      <th>English</th>\n",
       "      <th>Attendance</th>\n",
       "    </tr>\n",
       "  </thead>\n",
       "  <tbody>\n",
       "    <tr>\n",
       "      <th>count</th>\n",
       "      <td>10.00000</td>\n",
       "      <td>10.000000</td>\n",
       "      <td>10.000000</td>\n",
       "      <td>10.000000</td>\n",
       "      <td>10.000000</td>\n",
       "    </tr>\n",
       "    <tr>\n",
       "      <th>mean</th>\n",
       "      <td>5.50000</td>\n",
       "      <td>71.152222</td>\n",
       "      <td>67.400000</td>\n",
       "      <td>68.300000</td>\n",
       "      <td>0.585185</td>\n",
       "    </tr>\n",
       "    <tr>\n",
       "      <th>std</th>\n",
       "      <td>3.02765</td>\n",
       "      <td>15.549749</td>\n",
       "      <td>16.304055</td>\n",
       "      <td>12.798003</td>\n",
       "      <td>0.346032</td>\n",
       "    </tr>\n",
       "    <tr>\n",
       "      <th>min</th>\n",
       "      <td>1.00000</td>\n",
       "      <td>45.000000</td>\n",
       "      <td>43.000000</td>\n",
       "      <td>49.000000</td>\n",
       "      <td>0.000000</td>\n",
       "    </tr>\n",
       "    <tr>\n",
       "      <th>25%</th>\n",
       "      <td>3.25000</td>\n",
       "      <td>61.500000</td>\n",
       "      <td>57.250000</td>\n",
       "      <td>59.250000</td>\n",
       "      <td>0.324074</td>\n",
       "    </tr>\n",
       "    <tr>\n",
       "      <th>50%</th>\n",
       "      <td>5.50000</td>\n",
       "      <td>71.111111</td>\n",
       "      <td>67.500000</td>\n",
       "      <td>68.500000</td>\n",
       "      <td>0.666667</td>\n",
       "    </tr>\n",
       "    <tr>\n",
       "      <th>75%</th>\n",
       "      <td>7.75000</td>\n",
       "      <td>79.500000</td>\n",
       "      <td>81.750000</td>\n",
       "      <td>77.500000</td>\n",
       "      <td>0.861111</td>\n",
       "    </tr>\n",
       "    <tr>\n",
       "      <th>max</th>\n",
       "      <td>10.00000</td>\n",
       "      <td>99.300000</td>\n",
       "      <td>90.000000</td>\n",
       "      <td>87.000000</td>\n",
       "      <td>1.000000</td>\n",
       "    </tr>\n",
       "  </tbody>\n",
       "</table>\n",
       "</div>"
      ],
      "text/plain": [
       "          Rollo      Maths    Science    English  Attendance\n",
       "count  10.00000  10.000000  10.000000  10.000000   10.000000\n",
       "mean    5.50000  71.152222  67.400000  68.300000    0.585185\n",
       "std     3.02765  15.549749  16.304055  12.798003    0.346032\n",
       "min     1.00000  45.000000  43.000000  49.000000    0.000000\n",
       "25%     3.25000  61.500000  57.250000  59.250000    0.324074\n",
       "50%     5.50000  71.111111  67.500000  68.500000    0.666667\n",
       "75%     7.75000  79.500000  81.750000  77.500000    0.861111\n",
       "max    10.00000  99.300000  90.000000  87.000000    1.000000"
      ]
     },
     "execution_count": 43,
     "metadata": {},
     "output_type": "execute_result"
    }
   ],
   "source": [
    "df.describe()"
   ]
  },
  {
   "cell_type": "code",
   "execution_count": 44,
   "id": "70749c96",
   "metadata": {},
   "outputs": [
    {
     "data": {
      "text/html": [
       "<div>\n",
       "<style scoped>\n",
       "    .dataframe tbody tr th:only-of-type {\n",
       "        vertical-align: middle;\n",
       "    }\n",
       "\n",
       "    .dataframe tbody tr th {\n",
       "        vertical-align: top;\n",
       "    }\n",
       "\n",
       "    .dataframe thead th {\n",
       "        text-align: right;\n",
       "    }\n",
       "</style>\n",
       "<table border=\"1\" class=\"dataframe\">\n",
       "  <thead>\n",
       "    <tr style=\"text-align: right;\">\n",
       "      <th></th>\n",
       "      <th>Rollo</th>\n",
       "      <th>Maths</th>\n",
       "      <th>Science</th>\n",
       "      <th>English</th>\n",
       "      <th>Attendance</th>\n",
       "    </tr>\n",
       "  </thead>\n",
       "  <tbody>\n",
       "    <tr>\n",
       "      <th>0</th>\n",
       "      <td>1</td>\n",
       "      <td>66.0</td>\n",
       "      <td>90</td>\n",
       "      <td>79</td>\n",
       "      <td>0.777778</td>\n",
       "    </tr>\n",
       "    <tr>\n",
       "      <th>1</th>\n",
       "      <td>2</td>\n",
       "      <td>85.0</td>\n",
       "      <td>83</td>\n",
       "      <td>83</td>\n",
       "      <td>0.407407</td>\n",
       "    </tr>\n",
       "    <tr>\n",
       "      <th>2</th>\n",
       "      <td>3</td>\n",
       "      <td>78.0</td>\n",
       "      <td>46</td>\n",
       "      <td>57</td>\n",
       "      <td>0.185185</td>\n",
       "    </tr>\n",
       "    <tr>\n",
       "      <th>3</th>\n",
       "      <td>4</td>\n",
       "      <td>60.0</td>\n",
       "      <td>78</td>\n",
       "      <td>66</td>\n",
       "      <td>0.629630</td>\n",
       "    </tr>\n",
       "    <tr>\n",
       "      <th>4</th>\n",
       "      <td>5</td>\n",
       "      <td>45.0</td>\n",
       "      <td>84</td>\n",
       "      <td>49</td>\n",
       "      <td>0.888889</td>\n",
       "    </tr>\n",
       "  </tbody>\n",
       "</table>\n",
       "</div>"
      ],
      "text/plain": [
       "   Rollo  Maths  Science  English  Attendance\n",
       "0      1   66.0       90       79    0.777778\n",
       "1      2   85.0       83       83    0.407407\n",
       "2      3   78.0       46       57    0.185185\n",
       "3      4   60.0       78       66    0.629630\n",
       "4      5   45.0       84       49    0.888889"
      ]
     },
     "execution_count": 44,
     "metadata": {},
     "output_type": "execute_result"
    }
   ],
   "source": [
    "df.head()"
   ]
  },
  {
   "cell_type": "markdown",
   "id": "339b110c",
   "metadata": {},
   "source": [
    "## Formula that works for MinMax Scaler\n",
    "\n",
    "- xscale_value =  (x - xmin) / (xmax - xmin)         "
   ]
  },
  {
   "cell_type": "code",
   "execution_count": null,
   "id": "c55d15a3",
   "metadata": {},
   "outputs": [],
   "source": []
  }
 ],
 "metadata": {
  "kernelspec": {
   "display_name": "Python 3 (ipykernel)",
   "language": "python",
   "name": "python3"
  },
  "language_info": {
   "codemirror_mode": {
    "name": "ipython",
    "version": 3
   },
   "file_extension": ".py",
   "mimetype": "text/x-python",
   "name": "python",
   "nbconvert_exporter": "python",
   "pygments_lexer": "ipython3",
   "version": "3.10.9"
  }
 },
 "nbformat": 4,
 "nbformat_minor": 5
}
